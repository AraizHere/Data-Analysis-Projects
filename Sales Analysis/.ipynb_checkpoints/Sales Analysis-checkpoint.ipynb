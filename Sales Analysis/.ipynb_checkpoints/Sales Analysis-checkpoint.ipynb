{
 "cells": [
  {
   "cell_type": "markdown",
   "id": "e284f127",
   "metadata": {},
   "source": [
    "<h1 style=\"font-size:6rem; color:red\">Sales Analysis</h1>"
   ]
  },
  {
   "cell_type": "markdown",
   "id": "4aec1d46",
   "metadata": {},
   "source": [
    "### A detailed analysis of sales occuring in a year\n",
    "<h3 style=\"color:blue\">Means that these are steps before performing a major step mostly DATA CLEANING</h3>\n",
    "<h3 style=\"color:green\">Means these are major steps</h3>\n",
    "<h3 style=\"color:orange\">Final Plottings</h3>"
   ]
  },
  {
   "cell_type": "markdown",
   "id": "2684d97d",
   "metadata": {},
   "source": [
    "# Importing The Necessary Libraries"
   ]
  },
  {
   "cell_type": "code",
   "execution_count": 3,
   "id": "d2f3458b",
   "metadata": {},
   "outputs": [],
   "source": [
    "import pandas as pd\n",
    "import matplotlib.pyplot as plt\n",
    "import os"
   ]
  },
  {
   "cell_type": "markdown",
   "id": "a6ea2143",
   "metadata": {},
   "source": [
    "# Merging csv's and Reading New csv"
   ]
  },
  {
   "cell_type": "code",
   "execution_count": 11,
   "id": "ebb1f0cf",
   "metadata": {},
   "outputs": [
    {
     "data": {
      "text/html": [
       "<div>\n",
       "<style scoped>\n",
       "    .dataframe tbody tr th:only-of-type {\n",
       "        vertical-align: middle;\n",
       "    }\n",
       "\n",
       "    .dataframe tbody tr th {\n",
       "        vertical-align: top;\n",
       "    }\n",
       "\n",
       "    .dataframe thead th {\n",
       "        text-align: right;\n",
       "    }\n",
       "</style>\n",
       "<table border=\"1\" class=\"dataframe\">\n",
       "  <thead>\n",
       "    <tr style=\"text-align: right;\">\n",
       "      <th></th>\n",
       "      <th>Unnamed: 0</th>\n",
       "      <th>Order ID</th>\n",
       "      <th>Product</th>\n",
       "      <th>Quantity Ordered</th>\n",
       "      <th>Price Each</th>\n",
       "      <th>Order Date</th>\n",
       "      <th>Purchase Address</th>\n",
       "    </tr>\n",
       "  </thead>\n",
       "  <tbody>\n",
       "    <tr>\n",
       "      <th>0</th>\n",
       "      <td>0</td>\n",
       "      <td>176558</td>\n",
       "      <td>USB-C Charging Cable</td>\n",
       "      <td>2</td>\n",
       "      <td>11.95</td>\n",
       "      <td>04/19/19 08:46</td>\n",
       "      <td>917 1st St, Dallas, TX 75001</td>\n",
       "    </tr>\n",
       "    <tr>\n",
       "      <th>1</th>\n",
       "      <td>1</td>\n",
       "      <td>NaN</td>\n",
       "      <td>NaN</td>\n",
       "      <td>NaN</td>\n",
       "      <td>NaN</td>\n",
       "      <td>NaN</td>\n",
       "      <td>NaN</td>\n",
       "    </tr>\n",
       "    <tr>\n",
       "      <th>2</th>\n",
       "      <td>2</td>\n",
       "      <td>176559</td>\n",
       "      <td>Bose SoundSport Headphones</td>\n",
       "      <td>1</td>\n",
       "      <td>99.99</td>\n",
       "      <td>04/07/19 22:30</td>\n",
       "      <td>682 Chestnut St, Boston, MA 02215</td>\n",
       "    </tr>\n",
       "    <tr>\n",
       "      <th>3</th>\n",
       "      <td>3</td>\n",
       "      <td>176560</td>\n",
       "      <td>Google Phone</td>\n",
       "      <td>1</td>\n",
       "      <td>600</td>\n",
       "      <td>04/12/19 14:38</td>\n",
       "      <td>669 Spruce St, Los Angeles, CA 90001</td>\n",
       "    </tr>\n",
       "    <tr>\n",
       "      <th>4</th>\n",
       "      <td>4</td>\n",
       "      <td>176560</td>\n",
       "      <td>Wired Headphones</td>\n",
       "      <td>1</td>\n",
       "      <td>11.99</td>\n",
       "      <td>04/12/19 14:38</td>\n",
       "      <td>669 Spruce St, Los Angeles, CA 90001</td>\n",
       "    </tr>\n",
       "  </tbody>\n",
       "</table>\n",
       "</div>"
      ],
      "text/plain": [
       "   Unnamed: 0 Order ID                     Product Quantity Ordered  \\\n",
       "0           0   176558        USB-C Charging Cable                2   \n",
       "1           1      NaN                         NaN              NaN   \n",
       "2           2   176559  Bose SoundSport Headphones                1   \n",
       "3           3   176560                Google Phone                1   \n",
       "4           4   176560            Wired Headphones                1   \n",
       "\n",
       "  Price Each      Order Date                      Purchase Address  \n",
       "0      11.95  04/19/19 08:46          917 1st St, Dallas, TX 75001  \n",
       "1        NaN             NaN                                   NaN  \n",
       "2      99.99  04/07/19 22:30     682 Chestnut St, Boston, MA 02215  \n",
       "3        600  04/12/19 14:38  669 Spruce St, Los Angeles, CA 90001  \n",
       "4      11.99  04/12/19 14:38  669 Spruce St, Los Angeles, CA 90001  "
      ]
     },
     "execution_count": 11,
     "metadata": {},
     "output_type": "execute_result"
    }
   ],
   "source": [
    "sales = [file for file in os.listdir('./Sales_Data')]\n",
    "all_sales = pd.DataFrame()\n",
    "\n",
    "for sale in sales:\n",
    "    df = pd.read_csv(f\"./Sales_Data/{sale}\")\n",
    "    all_sales = pd.concat([all_sales, df])\n",
    "all_sales.to_csv(\"sales_usa.csv\")\n",
    "\n",
    "sales_df = pd.read_csv(\"sales_usa.csv\")\n",
    "sales_df.head()"
   ]
  },
  {
   "cell_type": "markdown",
   "id": "2bb4883d",
   "metadata": {},
   "source": [
    "<h2 style=\"font-size:3.5rem; color:red\">Which Month Has The Highest Sales?</h2>"
   ]
  },
  {
   "cell_type": "markdown",
   "id": "66315e43",
   "metadata": {},
   "source": [
    "<h1 style=\"color:blue\">Creating new data frame holding Qty, Sales and Date</h1>"
   ]
  },
  {
   "cell_type": "code",
   "execution_count": 101,
   "id": "2fc5aa8d",
   "metadata": {
    "scrolled": true
   },
   "outputs": [
    {
     "data": {
      "text/html": [
       "<div>\n",
       "<style scoped>\n",
       "    .dataframe tbody tr th:only-of-type {\n",
       "        vertical-align: middle;\n",
       "    }\n",
       "\n",
       "    .dataframe tbody tr th {\n",
       "        vertical-align: top;\n",
       "    }\n",
       "\n",
       "    .dataframe thead th {\n",
       "        text-align: right;\n",
       "    }\n",
       "</style>\n",
       "<table border=\"1\" class=\"dataframe\">\n",
       "  <thead>\n",
       "    <tr style=\"text-align: right;\">\n",
       "      <th></th>\n",
       "      <th>Quantity Ordered</th>\n",
       "      <th>Price Each</th>\n",
       "      <th>Order Date</th>\n",
       "    </tr>\n",
       "  </thead>\n",
       "  <tbody>\n",
       "    <tr>\n",
       "      <th>0</th>\n",
       "      <td>2</td>\n",
       "      <td>11.95</td>\n",
       "      <td>04/19/19 08:46</td>\n",
       "    </tr>\n",
       "    <tr>\n",
       "      <th>1</th>\n",
       "      <td>NaN</td>\n",
       "      <td>NaN</td>\n",
       "      <td>NaN</td>\n",
       "    </tr>\n",
       "    <tr>\n",
       "      <th>2</th>\n",
       "      <td>1</td>\n",
       "      <td>99.99</td>\n",
       "      <td>04/07/19 22:30</td>\n",
       "    </tr>\n",
       "    <tr>\n",
       "      <th>3</th>\n",
       "      <td>1</td>\n",
       "      <td>600</td>\n",
       "      <td>04/12/19 14:38</td>\n",
       "    </tr>\n",
       "    <tr>\n",
       "      <th>4</th>\n",
       "      <td>1</td>\n",
       "      <td>11.99</td>\n",
       "      <td>04/12/19 14:38</td>\n",
       "    </tr>\n",
       "  </tbody>\n",
       "</table>\n",
       "</div>"
      ],
      "text/plain": [
       "  Quantity Ordered Price Each      Order Date\n",
       "0                2      11.95  04/19/19 08:46\n",
       "1              NaN        NaN             NaN\n",
       "2                1      99.99  04/07/19 22:30\n",
       "3                1        600  04/12/19 14:38\n",
       "4                1      11.99  04/12/19 14:38"
      ]
     },
     "execution_count": 101,
     "metadata": {},
     "output_type": "execute_result"
    }
   ],
   "source": [
    "select = sales_df[['Quantity Ordered', 'Price Each', 'Order Date']]\n",
    "mth_sales = pd.DataFrame(select)\n",
    "mth_sales.head()"
   ]
  },
  {
   "cell_type": "markdown",
   "id": "c836a4ec",
   "metadata": {},
   "source": [
    "<h1 style=\"color:blue\">Removing All NaN's</h1>"
   ]
  },
  {
   "cell_type": "code",
   "execution_count": 102,
   "id": "7fc9f5b7",
   "metadata": {},
   "outputs": [
    {
     "data": {
      "text/html": [
       "<div>\n",
       "<style scoped>\n",
       "    .dataframe tbody tr th:only-of-type {\n",
       "        vertical-align: middle;\n",
       "    }\n",
       "\n",
       "    .dataframe tbody tr th {\n",
       "        vertical-align: top;\n",
       "    }\n",
       "\n",
       "    .dataframe thead th {\n",
       "        text-align: right;\n",
       "    }\n",
       "</style>\n",
       "<table border=\"1\" class=\"dataframe\">\n",
       "  <thead>\n",
       "    <tr style=\"text-align: right;\">\n",
       "      <th></th>\n",
       "      <th>Quantity Ordered</th>\n",
       "      <th>Price Each</th>\n",
       "      <th>Order Date</th>\n",
       "    </tr>\n",
       "  </thead>\n",
       "  <tbody>\n",
       "    <tr>\n",
       "      <th>0</th>\n",
       "      <td>2</td>\n",
       "      <td>11.95</td>\n",
       "      <td>04/19/19 08:46</td>\n",
       "    </tr>\n",
       "    <tr>\n",
       "      <th>2</th>\n",
       "      <td>1</td>\n",
       "      <td>99.99</td>\n",
       "      <td>04/07/19 22:30</td>\n",
       "    </tr>\n",
       "    <tr>\n",
       "      <th>3</th>\n",
       "      <td>1</td>\n",
       "      <td>600</td>\n",
       "      <td>04/12/19 14:38</td>\n",
       "    </tr>\n",
       "    <tr>\n",
       "      <th>4</th>\n",
       "      <td>1</td>\n",
       "      <td>11.99</td>\n",
       "      <td>04/12/19 14:38</td>\n",
       "    </tr>\n",
       "    <tr>\n",
       "      <th>5</th>\n",
       "      <td>1</td>\n",
       "      <td>11.99</td>\n",
       "      <td>04/30/19 09:27</td>\n",
       "    </tr>\n",
       "  </tbody>\n",
       "</table>\n",
       "</div>"
      ],
      "text/plain": [
       "  Quantity Ordered Price Each      Order Date\n",
       "0                2      11.95  04/19/19 08:46\n",
       "2                1      99.99  04/07/19 22:30\n",
       "3                1        600  04/12/19 14:38\n",
       "4                1      11.99  04/12/19 14:38\n",
       "5                1      11.99  04/30/19 09:27"
      ]
     },
     "execution_count": 102,
     "metadata": {},
     "output_type": "execute_result"
    }
   ],
   "source": [
    "mth_sales = mth_sales[~mth_sales['Quantity Ordered'].isna()]\n",
    "mth_sales.head()"
   ]
  },
  {
   "cell_type": "markdown",
   "id": "48ffef20",
   "metadata": {},
   "source": [
    "<h1 style=\"color:blue\">Removing All 'Order Date's</h1>"
   ]
  },
  {
   "cell_type": "code",
   "execution_count": 103,
   "id": "f258f717",
   "metadata": {},
   "outputs": [
    {
     "data": {
      "text/html": [
       "<div>\n",
       "<style scoped>\n",
       "    .dataframe tbody tr th:only-of-type {\n",
       "        vertical-align: middle;\n",
       "    }\n",
       "\n",
       "    .dataframe tbody tr th {\n",
       "        vertical-align: top;\n",
       "    }\n",
       "\n",
       "    .dataframe thead th {\n",
       "        text-align: right;\n",
       "    }\n",
       "</style>\n",
       "<table border=\"1\" class=\"dataframe\">\n",
       "  <thead>\n",
       "    <tr style=\"text-align: right;\">\n",
       "      <th></th>\n",
       "      <th>Quantity Ordered</th>\n",
       "      <th>Price Each</th>\n",
       "      <th>Order Date</th>\n",
       "    </tr>\n",
       "  </thead>\n",
       "  <tbody>\n",
       "    <tr>\n",
       "      <th>0</th>\n",
       "      <td>2</td>\n",
       "      <td>11.95</td>\n",
       "      <td>04/19/19 08:46</td>\n",
       "    </tr>\n",
       "    <tr>\n",
       "      <th>2</th>\n",
       "      <td>1</td>\n",
       "      <td>99.99</td>\n",
       "      <td>04/07/19 22:30</td>\n",
       "    </tr>\n",
       "    <tr>\n",
       "      <th>3</th>\n",
       "      <td>1</td>\n",
       "      <td>600</td>\n",
       "      <td>04/12/19 14:38</td>\n",
       "    </tr>\n",
       "    <tr>\n",
       "      <th>4</th>\n",
       "      <td>1</td>\n",
       "      <td>11.99</td>\n",
       "      <td>04/12/19 14:38</td>\n",
       "    </tr>\n",
       "    <tr>\n",
       "      <th>5</th>\n",
       "      <td>1</td>\n",
       "      <td>11.99</td>\n",
       "      <td>04/30/19 09:27</td>\n",
       "    </tr>\n",
       "  </tbody>\n",
       "</table>\n",
       "</div>"
      ],
      "text/plain": [
       "  Quantity Ordered Price Each      Order Date\n",
       "0                2      11.95  04/19/19 08:46\n",
       "2                1      99.99  04/07/19 22:30\n",
       "3                1        600  04/12/19 14:38\n",
       "4                1      11.99  04/12/19 14:38\n",
       "5                1      11.99  04/30/19 09:27"
      ]
     },
     "execution_count": 103,
     "metadata": {},
     "output_type": "execute_result"
    }
   ],
   "source": [
    "mth_sales = mth_sales[~mth_sales['Quantity Ordered'].str.contains('Or')]\n",
    "mth_sales.head()"
   ]
  },
  {
   "cell_type": "markdown",
   "id": "d6fa4c17",
   "metadata": {},
   "source": [
    "<h1 style=\"color:blue\">Converting Qty to int and Price to float</h1>"
   ]
  },
  {
   "cell_type": "code",
   "execution_count": 105,
   "id": "f1c31689",
   "metadata": {},
   "outputs": [],
   "source": [
    "mth_sales['Quantity Ordered'] = pd.to_numeric(mth_sales['Quantity Ordered'])\n",
    "mth_sales['Price Each'] = pd.to_numeric(mth_sales['Price Each'])"
   ]
  },
  {
   "cell_type": "markdown",
   "id": "8d718b70",
   "metadata": {},
   "source": [
    "<h1 style=\"color:green\">Creating new column Sales</h1>"
   ]
  },
  {
   "cell_type": "code",
   "execution_count": 106,
   "id": "8d42a479",
   "metadata": {},
   "outputs": [
    {
     "data": {
      "text/html": [
       "<div>\n",
       "<style scoped>\n",
       "    .dataframe tbody tr th:only-of-type {\n",
       "        vertical-align: middle;\n",
       "    }\n",
       "\n",
       "    .dataframe tbody tr th {\n",
       "        vertical-align: top;\n",
       "    }\n",
       "\n",
       "    .dataframe thead th {\n",
       "        text-align: right;\n",
       "    }\n",
       "</style>\n",
       "<table border=\"1\" class=\"dataframe\">\n",
       "  <thead>\n",
       "    <tr style=\"text-align: right;\">\n",
       "      <th></th>\n",
       "      <th>Quantity Ordered</th>\n",
       "      <th>Price Each</th>\n",
       "      <th>Order Date</th>\n",
       "      <th>Sales</th>\n",
       "    </tr>\n",
       "  </thead>\n",
       "  <tbody>\n",
       "    <tr>\n",
       "      <th>0</th>\n",
       "      <td>2</td>\n",
       "      <td>11.95</td>\n",
       "      <td>04/19/19 08:46</td>\n",
       "      <td>23.90</td>\n",
       "    </tr>\n",
       "    <tr>\n",
       "      <th>2</th>\n",
       "      <td>1</td>\n",
       "      <td>99.99</td>\n",
       "      <td>04/07/19 22:30</td>\n",
       "      <td>99.99</td>\n",
       "    </tr>\n",
       "    <tr>\n",
       "      <th>3</th>\n",
       "      <td>1</td>\n",
       "      <td>600.00</td>\n",
       "      <td>04/12/19 14:38</td>\n",
       "      <td>600.00</td>\n",
       "    </tr>\n",
       "    <tr>\n",
       "      <th>4</th>\n",
       "      <td>1</td>\n",
       "      <td>11.99</td>\n",
       "      <td>04/12/19 14:38</td>\n",
       "      <td>11.99</td>\n",
       "    </tr>\n",
       "    <tr>\n",
       "      <th>5</th>\n",
       "      <td>1</td>\n",
       "      <td>11.99</td>\n",
       "      <td>04/30/19 09:27</td>\n",
       "      <td>11.99</td>\n",
       "    </tr>\n",
       "  </tbody>\n",
       "</table>\n",
       "</div>"
      ],
      "text/plain": [
       "   Quantity Ordered  Price Each      Order Date   Sales\n",
       "0                 2       11.95  04/19/19 08:46   23.90\n",
       "2                 1       99.99  04/07/19 22:30   99.99\n",
       "3                 1      600.00  04/12/19 14:38  600.00\n",
       "4                 1       11.99  04/12/19 14:38   11.99\n",
       "5                 1       11.99  04/30/19 09:27   11.99"
      ]
     },
     "execution_count": 106,
     "metadata": {},
     "output_type": "execute_result"
    }
   ],
   "source": [
    "mth_sales['Sales'] = mth_sales['Quantity Ordered'] * mth_sales['Price Each']\n",
    "mth_sales.head()"
   ]
  },
  {
   "cell_type": "markdown",
   "id": "c55def90",
   "metadata": {},
   "source": [
    "<h1 style=\"color:green\">Extracting month from 'Order Date' and Creating 'Month'</h1>"
   ]
  },
  {
   "cell_type": "code",
   "execution_count": 107,
   "id": "8bf8cb4e",
   "metadata": {},
   "outputs": [
    {
     "data": {
      "text/html": [
       "<div>\n",
       "<style scoped>\n",
       "    .dataframe tbody tr th:only-of-type {\n",
       "        vertical-align: middle;\n",
       "    }\n",
       "\n",
       "    .dataframe tbody tr th {\n",
       "        vertical-align: top;\n",
       "    }\n",
       "\n",
       "    .dataframe thead th {\n",
       "        text-align: right;\n",
       "    }\n",
       "</style>\n",
       "<table border=\"1\" class=\"dataframe\">\n",
       "  <thead>\n",
       "    <tr style=\"text-align: right;\">\n",
       "      <th></th>\n",
       "      <th>Quantity Ordered</th>\n",
       "      <th>Price Each</th>\n",
       "      <th>Order Date</th>\n",
       "      <th>Sales</th>\n",
       "      <th>Month</th>\n",
       "    </tr>\n",
       "  </thead>\n",
       "  <tbody>\n",
       "    <tr>\n",
       "      <th>0</th>\n",
       "      <td>2</td>\n",
       "      <td>11.95</td>\n",
       "      <td>04/19/19 08:46</td>\n",
       "      <td>23.90</td>\n",
       "      <td>04</td>\n",
       "    </tr>\n",
       "    <tr>\n",
       "      <th>2</th>\n",
       "      <td>1</td>\n",
       "      <td>99.99</td>\n",
       "      <td>04/07/19 22:30</td>\n",
       "      <td>99.99</td>\n",
       "      <td>04</td>\n",
       "    </tr>\n",
       "    <tr>\n",
       "      <th>3</th>\n",
       "      <td>1</td>\n",
       "      <td>600.00</td>\n",
       "      <td>04/12/19 14:38</td>\n",
       "      <td>600.00</td>\n",
       "      <td>04</td>\n",
       "    </tr>\n",
       "    <tr>\n",
       "      <th>4</th>\n",
       "      <td>1</td>\n",
       "      <td>11.99</td>\n",
       "      <td>04/12/19 14:38</td>\n",
       "      <td>11.99</td>\n",
       "      <td>04</td>\n",
       "    </tr>\n",
       "    <tr>\n",
       "      <th>5</th>\n",
       "      <td>1</td>\n",
       "      <td>11.99</td>\n",
       "      <td>04/30/19 09:27</td>\n",
       "      <td>11.99</td>\n",
       "      <td>04</td>\n",
       "    </tr>\n",
       "  </tbody>\n",
       "</table>\n",
       "</div>"
      ],
      "text/plain": [
       "   Quantity Ordered  Price Each      Order Date   Sales Month\n",
       "0                 2       11.95  04/19/19 08:46   23.90    04\n",
       "2                 1       99.99  04/07/19 22:30   99.99    04\n",
       "3                 1      600.00  04/12/19 14:38  600.00    04\n",
       "4                 1       11.99  04/12/19 14:38   11.99    04\n",
       "5                 1       11.99  04/30/19 09:27   11.99    04"
      ]
     },
     "execution_count": 107,
     "metadata": {},
     "output_type": "execute_result"
    }
   ],
   "source": [
    "mth_sales['Month'] = mth_sales['Order Date'].str[0:2]\n",
    "mth_sales.head()"
   ]
  },
  {
   "cell_type": "markdown",
   "id": "cf768bc5",
   "metadata": {},
   "source": [
    "<h1 style=\"color:blue\">Converting 'Order Date' to int</h1>"
   ]
  },
  {
   "cell_type": "code",
   "execution_count": 108,
   "id": "b0e3019f",
   "metadata": {},
   "outputs": [
    {
     "data": {
      "text/html": [
       "<div>\n",
       "<style scoped>\n",
       "    .dataframe tbody tr th:only-of-type {\n",
       "        vertical-align: middle;\n",
       "    }\n",
       "\n",
       "    .dataframe tbody tr th {\n",
       "        vertical-align: top;\n",
       "    }\n",
       "\n",
       "    .dataframe thead th {\n",
       "        text-align: right;\n",
       "    }\n",
       "</style>\n",
       "<table border=\"1\" class=\"dataframe\">\n",
       "  <thead>\n",
       "    <tr style=\"text-align: right;\">\n",
       "      <th></th>\n",
       "      <th>Quantity Ordered</th>\n",
       "      <th>Price Each</th>\n",
       "      <th>Order Date</th>\n",
       "      <th>Sales</th>\n",
       "      <th>Month</th>\n",
       "    </tr>\n",
       "  </thead>\n",
       "  <tbody>\n",
       "    <tr>\n",
       "      <th>0</th>\n",
       "      <td>2</td>\n",
       "      <td>11.95</td>\n",
       "      <td>04/19/19 08:46</td>\n",
       "      <td>23.90</td>\n",
       "      <td>4</td>\n",
       "    </tr>\n",
       "    <tr>\n",
       "      <th>2</th>\n",
       "      <td>1</td>\n",
       "      <td>99.99</td>\n",
       "      <td>04/07/19 22:30</td>\n",
       "      <td>99.99</td>\n",
       "      <td>4</td>\n",
       "    </tr>\n",
       "    <tr>\n",
       "      <th>3</th>\n",
       "      <td>1</td>\n",
       "      <td>600.00</td>\n",
       "      <td>04/12/19 14:38</td>\n",
       "      <td>600.00</td>\n",
       "      <td>4</td>\n",
       "    </tr>\n",
       "    <tr>\n",
       "      <th>4</th>\n",
       "      <td>1</td>\n",
       "      <td>11.99</td>\n",
       "      <td>04/12/19 14:38</td>\n",
       "      <td>11.99</td>\n",
       "      <td>4</td>\n",
       "    </tr>\n",
       "    <tr>\n",
       "      <th>5</th>\n",
       "      <td>1</td>\n",
       "      <td>11.99</td>\n",
       "      <td>04/30/19 09:27</td>\n",
       "      <td>11.99</td>\n",
       "      <td>4</td>\n",
       "    </tr>\n",
       "  </tbody>\n",
       "</table>\n",
       "</div>"
      ],
      "text/plain": [
       "   Quantity Ordered  Price Each      Order Date   Sales  Month\n",
       "0                 2       11.95  04/19/19 08:46   23.90      4\n",
       "2                 1       99.99  04/07/19 22:30   99.99      4\n",
       "3                 1      600.00  04/12/19 14:38  600.00      4\n",
       "4                 1       11.99  04/12/19 14:38   11.99      4\n",
       "5                 1       11.99  04/30/19 09:27   11.99      4"
      ]
     },
     "execution_count": 108,
     "metadata": {},
     "output_type": "execute_result"
    }
   ],
   "source": [
    "mth_sales['Month'] = pd.to_numeric(mth_sales['Month'])\n",
    "mth_sales.head()"
   ]
  },
  {
   "cell_type": "markdown",
   "id": "490d043a",
   "metadata": {},
   "source": [
    "<h1 style=\"color:orange; font-size:4rem\">Plotting Month v/s Sales Graph</h1>"
   ]
  },
  {
   "cell_type": "code",
   "execution_count": 109,
   "id": "0b1f1efb",
   "metadata": {
    "scrolled": false
   },
   "outputs": [
    {
     "name": "stderr",
     "output_type": "stream",
     "text": [
      "C:\\Users\\araiz\\AppData\\Local\\Temp\\ipykernel_13684\\985601548.py:1: FutureWarning: The default value of numeric_only in DataFrameGroupBy.sum is deprecated. In a future version, numeric_only will default to False. Either specify numeric_only or select only columns which should be valid for the function.\n",
      "  result = mth_sales.groupby('Month').sum()\n"
     ]
    },
    {
     "data": {
      "image/png": "[encoded data removed]",
      "text/plain": [
       "<Figure size 1000x600 with 1 Axes>"
      ]
     },
     "metadata": {},
     "output_type": "display_data"
    }
   ],
   "source": [
    "result = mth_sales.groupby('Month').sum()\n",
    "months = range(1, 13)\n",
    "\n",
    "plt.figure(figsize=(10, 6))\n",
    "plt.bar(months, result['Sales'], color=\"orange\", edgecolor=\"red\", linewidth=2)\n",
    "plt.title(\"Sales per Month in the USA (in usd)\")\n",
    "plt.xlabel(\"Months\")\n",
    "plt.ylabel(\"Sales (in usd)\")\n",
    "plt.xticks(months)\n",
    "\n",
    "plt.show()"
   ]
  },
  {
   "cell_type": "markdown",
   "id": "a7b18ddb",
   "metadata": {},
   "source": [
    "<h2 style=\"font-size:3.5rem; color:red\">Which City Has The Highest Sales?</h2>"
   ]
  },
  {
   "cell_type": "code",
   "execution_count": 51,
   "id": "51a140bb",
   "metadata": {},
   "outputs": [
    {
     "data": {
      "text/html": [
       "<div>\n",
       "<style scoped>\n",
       "    .dataframe tbody tr th:only-of-type {\n",
       "        vertical-align: middle;\n",
       "    }\n",
       "\n",
       "    .dataframe tbody tr th {\n",
       "        vertical-align: top;\n",
       "    }\n",
       "\n",
       "    .dataframe thead th {\n",
       "        text-align: right;\n",
       "    }\n",
       "</style>\n",
       "<table border=\"1\" class=\"dataframe\">\n",
       "  <thead>\n",
       "    <tr style=\"text-align: right;\">\n",
       "      <th></th>\n",
       "      <th>Quantity Ordered</th>\n",
       "      <th>Price Each</th>\n",
       "      <th>Purchase Address</th>\n",
       "    </tr>\n",
       "  </thead>\n",
       "  <tbody>\n",
       "    <tr>\n",
       "      <th>0</th>\n",
       "      <td>2</td>\n",
       "      <td>11.95</td>\n",
       "      <td>917 1st St, Dallas, TX 75001</td>\n",
       "    </tr>\n",
       "    <tr>\n",
       "      <th>1</th>\n",
       "      <td>NaN</td>\n",
       "      <td>NaN</td>\n",
       "      <td>NaN</td>\n",
       "    </tr>\n",
       "    <tr>\n",
       "      <th>2</th>\n",
       "      <td>1</td>\n",
       "      <td>99.99</td>\n",
       "      <td>682 Chestnut St, Boston, MA 02215</td>\n",
       "    </tr>\n",
       "    <tr>\n",
       "      <th>3</th>\n",
       "      <td>1</td>\n",
       "      <td>600</td>\n",
       "      <td>669 Spruce St, Los Angeles, CA 90001</td>\n",
       "    </tr>\n",
       "    <tr>\n",
       "      <th>4</th>\n",
       "      <td>1</td>\n",
       "      <td>11.99</td>\n",
       "      <td>669 Spruce St, Los Angeles, CA 90001</td>\n",
       "    </tr>\n",
       "  </tbody>\n",
       "</table>\n",
       "</div>"
      ],
      "text/plain": [
       "  Quantity Ordered Price Each                      Purchase Address\n",
       "0                2      11.95          917 1st St, Dallas, TX 75001\n",
       "1              NaN        NaN                                   NaN\n",
       "2                1      99.99     682 Chestnut St, Boston, MA 02215\n",
       "3                1        600  669 Spruce St, Los Angeles, CA 90001\n",
       "4                1      11.99  669 Spruce St, Los Angeles, CA 90001"
      ]
     },
     "execution_count": 51,
     "metadata": {},
     "output_type": "execute_result"
    }
   ],
   "source": [
    "selected = sales_df[['Quantity Ordered', 'Price Each', 'Purchase Address']]\n",
    "city_sale = pd.DataFrame(selected)\n",
    "city_sale.head()"
   ]
  },
  {
   "cell_type": "markdown",
   "id": "ddfc2f5e",
   "metadata": {},
   "source": [
    "<h1 style=\"color:blue\">Removing All NaN's</h1>"
   ]
  },
  {
   "cell_type": "code",
   "execution_count": 53,
   "id": "1a3280d6",
   "metadata": {},
   "outputs": [
    {
     "data": {
      "text/html": [
       "<div>\n",
       "<style scoped>\n",
       "    .dataframe tbody tr th:only-of-type {\n",
       "        vertical-align: middle;\n",
       "    }\n",
       "\n",
       "    .dataframe tbody tr th {\n",
       "        vertical-align: top;\n",
       "    }\n",
       "\n",
       "    .dataframe thead th {\n",
       "        text-align: right;\n",
       "    }\n",
       "</style>\n",
       "<table border=\"1\" class=\"dataframe\">\n",
       "  <thead>\n",
       "    <tr style=\"text-align: right;\">\n",
       "      <th></th>\n",
       "      <th>Quantity Ordered</th>\n",
       "      <th>Price Each</th>\n",
       "      <th>Purchase Address</th>\n",
       "    </tr>\n",
       "  </thead>\n",
       "  <tbody>\n",
       "    <tr>\n",
       "      <th>0</th>\n",
       "      <td>2</td>\n",
       "      <td>11.95</td>\n",
       "      <td>917 1st St, Dallas, TX 75001</td>\n",
       "    </tr>\n",
       "    <tr>\n",
       "      <th>2</th>\n",
       "      <td>1</td>\n",
       "      <td>99.99</td>\n",
       "      <td>682 Chestnut St, Boston, MA 02215</td>\n",
       "    </tr>\n",
       "    <tr>\n",
       "      <th>3</th>\n",
       "      <td>1</td>\n",
       "      <td>600</td>\n",
       "      <td>669 Spruce St, Los Angeles, CA 90001</td>\n",
       "    </tr>\n",
       "    <tr>\n",
       "      <th>4</th>\n",
       "      <td>1</td>\n",
       "      <td>11.99</td>\n",
       "      <td>669 Spruce St, Los Angeles, CA 90001</td>\n",
       "    </tr>\n",
       "    <tr>\n",
       "      <th>5</th>\n",
       "      <td>1</td>\n",
       "      <td>11.99</td>\n",
       "      <td>333 8th St, Los Angeles, CA 90001</td>\n",
       "    </tr>\n",
       "  </tbody>\n",
       "</table>\n",
       "</div>"
      ],
      "text/plain": [
       "  Quantity Ordered Price Each                      Purchase Address\n",
       "0                2      11.95          917 1st St, Dallas, TX 75001\n",
       "2                1      99.99     682 Chestnut St, Boston, MA 02215\n",
       "3                1        600  669 Spruce St, Los Angeles, CA 90001\n",
       "4                1      11.99  669 Spruce St, Los Angeles, CA 90001\n",
       "5                1      11.99     333 8th St, Los Angeles, CA 90001"
      ]
     },
     "execution_count": 53,
     "metadata": {},
     "output_type": "execute_result"
    }
   ],
   "source": [
    "city_sale = city_sale[~city_sale['Quantity Ordered'].isna()]\n",
    "city_sale.head()"
   ]
  },
  {
   "cell_type": "markdown",
   "id": "78d217ad",
   "metadata": {},
   "source": [
    "<h1 style=\"color:blue\">Removing All 'Order Date's</h1>"
   ]
  },
  {
   "cell_type": "code",
   "execution_count": 66,
   "id": "023f5c83",
   "metadata": {},
   "outputs": [
    {
     "data": {
      "text/html": [
       "<div>\n",
       "<style scoped>\n",
       "    .dataframe tbody tr th:only-of-type {\n",
       "        vertical-align: middle;\n",
       "    }\n",
       "\n",
       "    .dataframe tbody tr th {\n",
       "        vertical-align: top;\n",
       "    }\n",
       "\n",
       "    .dataframe thead th {\n",
       "        text-align: right;\n",
       "    }\n",
       "</style>\n",
       "<table border=\"1\" class=\"dataframe\">\n",
       "  <thead>\n",
       "    <tr style=\"text-align: right;\">\n",
       "      <th></th>\n",
       "      <th>Quantity Ordered</th>\n",
       "      <th>Price Each</th>\n",
       "      <th>Purchase Address</th>\n",
       "    </tr>\n",
       "  </thead>\n",
       "  <tbody>\n",
       "    <tr>\n",
       "      <th>0</th>\n",
       "      <td>2</td>\n",
       "      <td>11.95</td>\n",
       "      <td>917 1st St, Dallas, TX 75001</td>\n",
       "    </tr>\n",
       "    <tr>\n",
       "      <th>2</th>\n",
       "      <td>1</td>\n",
       "      <td>99.99</td>\n",
       "      <td>682 Chestnut St, Boston, MA 02215</td>\n",
       "    </tr>\n",
       "    <tr>\n",
       "      <th>3</th>\n",
       "      <td>1</td>\n",
       "      <td>600</td>\n",
       "      <td>669 Spruce St, Los Angeles, CA 90001</td>\n",
       "    </tr>\n",
       "    <tr>\n",
       "      <th>4</th>\n",
       "      <td>1</td>\n",
       "      <td>11.99</td>\n",
       "      <td>669 Spruce St, Los Angeles, CA 90001</td>\n",
       "    </tr>\n",
       "    <tr>\n",
       "      <th>5</th>\n",
       "      <td>1</td>\n",
       "      <td>11.99</td>\n",
       "      <td>333 8th St, Los Angeles, CA 90001</td>\n",
       "    </tr>\n",
       "  </tbody>\n",
       "</table>\n",
       "</div>"
      ],
      "text/plain": [
       "  Quantity Ordered Price Each                      Purchase Address\n",
       "0                2      11.95          917 1st St, Dallas, TX 75001\n",
       "2                1      99.99     682 Chestnut St, Boston, MA 02215\n",
       "3                1        600  669 Spruce St, Los Angeles, CA 90001\n",
       "4                1      11.99  669 Spruce St, Los Angeles, CA 90001\n",
       "5                1      11.99     333 8th St, Los Angeles, CA 90001"
      ]
     },
     "execution_count": 66,
     "metadata": {},
     "output_type": "execute_result"
    }
   ],
   "source": [
    "city_sale = city_sale[~city_sale['Quantity Ordered'].str.contains('Or')]\n",
    "city_sale.head()"
   ]
  },
  {
   "cell_type": "markdown",
   "id": "977b8f4d",
   "metadata": {},
   "source": [
    "<h1 style=\"color:blue\">Converting Qty to int and Price to float</h1>"
   ]
  },
  {
   "cell_type": "code",
   "execution_count": 71,
   "id": "095f4357",
   "metadata": {},
   "outputs": [],
   "source": [
    "city_sale['Quantity Ordered'] = pd.to_numeric(city_sale['Quantity Ordered'])\n",
    "city_sale['Price Each'] = pd.to_numeric(city_sale['Price Each'])"
   ]
  },
  {
   "cell_type": "markdown",
   "id": "0586f9e3",
   "metadata": {},
   "source": [
    "<h1 style=\"color:green\">Creating new column Sales</h1>"
   ]
  },
  {
   "cell_type": "code",
   "execution_count": 73,
   "id": "7ec800c8",
   "metadata": {},
   "outputs": [
    {
     "data": {
      "text/html": [
       "<div>\n",
       "<style scoped>\n",
       "    .dataframe tbody tr th:only-of-type {\n",
       "        vertical-align: middle;\n",
       "    }\n",
       "\n",
       "    .dataframe tbody tr th {\n",
       "        vertical-align: top;\n",
       "    }\n",
       "\n",
       "    .dataframe thead th {\n",
       "        text-align: right;\n",
       "    }\n",
       "</style>\n",
       "<table border=\"1\" class=\"dataframe\">\n",
       "  <thead>\n",
       "    <tr style=\"text-align: right;\">\n",
       "      <th></th>\n",
       "      <th>Quantity Ordered</th>\n",
       "      <th>Price Each</th>\n",
       "      <th>Purchase Address</th>\n",
       "      <th>Sales</th>\n",
       "    </tr>\n",
       "  </thead>\n",
       "  <tbody>\n",
       "    <tr>\n",
       "      <th>0</th>\n",
       "      <td>2</td>\n",
       "      <td>11.95</td>\n",
       "      <td>917 1st St, Dallas, TX 75001</td>\n",
       "      <td>23.90</td>\n",
       "    </tr>\n",
       "    <tr>\n",
       "      <th>2</th>\n",
       "      <td>1</td>\n",
       "      <td>99.99</td>\n",
       "      <td>682 Chestnut St, Boston, MA 02215</td>\n",
       "      <td>99.99</td>\n",
       "    </tr>\n",
       "    <tr>\n",
       "      <th>3</th>\n",
       "      <td>1</td>\n",
       "      <td>600.00</td>\n",
       "      <td>669 Spruce St, Los Angeles, CA 90001</td>\n",
       "      <td>600.00</td>\n",
       "    </tr>\n",
       "    <tr>\n",
       "      <th>4</th>\n",
       "      <td>1</td>\n",
       "      <td>11.99</td>\n",
       "      <td>669 Spruce St, Los Angeles, CA 90001</td>\n",
       "      <td>11.99</td>\n",
       "    </tr>\n",
       "    <tr>\n",
       "      <th>5</th>\n",
       "      <td>1</td>\n",
       "      <td>11.99</td>\n",
       "      <td>333 8th St, Los Angeles, CA 90001</td>\n",
       "      <td>11.99</td>\n",
       "    </tr>\n",
       "  </tbody>\n",
       "</table>\n",
       "</div>"
      ],
      "text/plain": [
       "   Quantity Ordered  Price Each                      Purchase Address   Sales\n",
       "0                 2       11.95          917 1st St, Dallas, TX 75001   23.90\n",
       "2                 1       99.99     682 Chestnut St, Boston, MA 02215   99.99\n",
       "3                 1      600.00  669 Spruce St, Los Angeles, CA 90001  600.00\n",
       "4                 1       11.99  669 Spruce St, Los Angeles, CA 90001   11.99\n",
       "5                 1       11.99     333 8th St, Los Angeles, CA 90001   11.99"
      ]
     },
     "execution_count": 73,
     "metadata": {},
     "output_type": "execute_result"
    }
   ],
   "source": [
    "city_sale['Sales'] = city_sale['Quantity Ordered'] * city_sale['Price Each']\n",
    "city_sale.head()"
   ]
  },
  {
   "cell_type": "markdown",
   "id": "e85a8e10",
   "metadata": {},
   "source": [
    "<h1 style=\"color:blue\">Extracting City and State</h1>"
   ]
  },
  {
   "cell_type": "code",
   "execution_count": 83,
   "id": "67ce7adc",
   "metadata": {},
   "outputs": [
    {
     "data": {
      "text/html": [
       "<div>\n",
       "<style scoped>\n",
       "    .dataframe tbody tr th:only-of-type {\n",
       "        vertical-align: middle;\n",
       "    }\n",
       "\n",
       "    .dataframe tbody tr th {\n",
       "        vertical-align: top;\n",
       "    }\n",
       "\n",
       "    .dataframe thead th {\n",
       "        text-align: right;\n",
       "    }\n",
       "</style>\n",
       "<table border=\"1\" class=\"dataframe\">\n",
       "  <thead>\n",
       "    <tr style=\"text-align: right;\">\n",
       "      <th></th>\n",
       "      <th>Quantity Ordered</th>\n",
       "      <th>Price Each</th>\n",
       "      <th>Purchase Address</th>\n",
       "      <th>Sales</th>\n",
       "      <th>City_State</th>\n",
       "    </tr>\n",
       "  </thead>\n",
       "  <tbody>\n",
       "    <tr>\n",
       "      <th>0</th>\n",
       "      <td>2</td>\n",
       "      <td>11.95</td>\n",
       "      <td>917 1st St, Dallas, TX 75001</td>\n",
       "      <td>23.90</td>\n",
       "      <td>Dallas, TX</td>\n",
       "    </tr>\n",
       "    <tr>\n",
       "      <th>2</th>\n",
       "      <td>1</td>\n",
       "      <td>99.99</td>\n",
       "      <td>682 Chestnut St, Boston, MA 02215</td>\n",
       "      <td>99.99</td>\n",
       "      <td>Boston, MA</td>\n",
       "    </tr>\n",
       "    <tr>\n",
       "      <th>3</th>\n",
       "      <td>1</td>\n",
       "      <td>600.00</td>\n",
       "      <td>669 Spruce St, Los Angeles, CA 90001</td>\n",
       "      <td>600.00</td>\n",
       "      <td>Los Angeles, CA</td>\n",
       "    </tr>\n",
       "    <tr>\n",
       "      <th>4</th>\n",
       "      <td>1</td>\n",
       "      <td>11.99</td>\n",
       "      <td>669 Spruce St, Los Angeles, CA 90001</td>\n",
       "      <td>11.99</td>\n",
       "      <td>Los Angeles, CA</td>\n",
       "    </tr>\n",
       "    <tr>\n",
       "      <th>5</th>\n",
       "      <td>1</td>\n",
       "      <td>11.99</td>\n",
       "      <td>333 8th St, Los Angeles, CA 90001</td>\n",
       "      <td>11.99</td>\n",
       "      <td>Los Angeles, CA</td>\n",
       "    </tr>\n",
       "  </tbody>\n",
       "</table>\n",
       "</div>"
      ],
      "text/plain": [
       "   Quantity Ordered  Price Each                      Purchase Address   Sales  \\\n",
       "0                 2       11.95          917 1st St, Dallas, TX 75001   23.90   \n",
       "2                 1       99.99     682 Chestnut St, Boston, MA 02215   99.99   \n",
       "3                 1      600.00  669 Spruce St, Los Angeles, CA 90001  600.00   \n",
       "4                 1       11.99  669 Spruce St, Los Angeles, CA 90001   11.99   \n",
       "5                 1       11.99     333 8th St, Los Angeles, CA 90001   11.99   \n",
       "\n",
       "        City_State  \n",
       "0       Dallas, TX  \n",
       "2       Boston, MA  \n",
       "3  Los Angeles, CA  \n",
       "4  Los Angeles, CA  \n",
       "5  Los Angeles, CA  "
      ]
     },
     "execution_count": 83,
     "metadata": {},
     "output_type": "execute_result"
    }
   ],
   "source": [
    "city_sale['City_State'] = city_sale['Purchase Address'].str.split(', ').str[1]\n",
    "city_sale.head()\n",
    "city_sale['City_State'] = city_sale['City_State'] + ', ' +city_sale['Purchase Address'].str.split(', ').str[2].str.split(' ').str[0]\n",
    "city_sale.head()"
   ]
  },
  {
   "cell_type": "markdown",
   "id": "8156e8aa",
   "metadata": {},
   "source": [
    "<h1 style=\"color:orange; font-size:4rem\">Plotting Month v/s Sales Graph</h1>"
   ]
  },
  {
   "cell_type": "code",
   "execution_count": 134,
   "id": "6bda8eb7",
   "metadata": {},
   "outputs": [
    {
     "name": "stderr",
     "output_type": "stream",
     "text": [
      "C:\\Users\\araiz\\AppData\\Local\\Temp\\ipykernel_13684\\1528829307.py:1: FutureWarning: The default value of numeric_only in DataFrameGroupBy.sum is deprecated. In a future version, numeric_only will default to False. Either specify numeric_only or select only columns which should be valid for the function.\n",
      "  results = city_sale.groupby('City_State').sum()\n"
     ]
    },
    {
     "data": {
      "image/png": "[encoded data removed]",
      "text/plain": [
       "<Figure size 900x500 with 1 Axes>"
      ]
     },
     "metadata": {},
     "output_type": "display_data"
    }
   ],
   "source": [
    "results = city_sale.groupby('City_State').sum()\n",
    "cities_with_state = city_sale['City_State'].unique().tolist()\n",
    "\n",
    "plt.figure(figsize=(9, 5))\n",
    "plt.bar(cities_with_state, results['Sales'], color=\"red\", edgecolor=\"orange\", linewidth=2)\n",
    "plt.title(\"Sales per City in the USA (in usd)\")\n",
    "plt.xlabel(\"Cities with States in the USA\")\n",
    "plt.ylabel(\"Sales (in usd)\")\n",
    "plt.xticks(cities_with_state, rotation=\"vertical\")\n",
    "\n",
    "plt.show()"
   ]
  },
  {
   "cell_type": "markdown",
   "id": "b590fcde",
   "metadata": {},
   "source": [
    "<h2 style=\"font-size:3.5rem; color:red\">Which Product has the most sales?</h2>"
   ]
  },
  {
   "cell_type": "markdown",
   "id": "3d06c6b0",
   "metadata": {},
   "source": [
    "<h1 style=\"color:blue\">Creating new data frame holding Product</h1>"
   ]
  },
  {
   "cell_type": "code",
   "execution_count": 113,
   "id": "e3be642b",
   "metadata": {},
   "outputs": [
    {
     "data": {
      "text/html": [
       "<div>\n",
       "<style scoped>\n",
       "    .dataframe tbody tr th:only-of-type {\n",
       "        vertical-align: middle;\n",
       "    }\n",
       "\n",
       "    .dataframe tbody tr th {\n",
       "        vertical-align: top;\n",
       "    }\n",
       "\n",
       "    .dataframe thead th {\n",
       "        text-align: right;\n",
       "    }\n",
       "</style>\n",
       "<table border=\"1\" class=\"dataframe\">\n",
       "  <thead>\n",
       "    <tr style=\"text-align: right;\">\n",
       "      <th></th>\n",
       "      <th>Product</th>\n",
       "    </tr>\n",
       "  </thead>\n",
       "  <tbody>\n",
       "    <tr>\n",
       "      <th>0</th>\n",
       "      <td>USB-C Charging Cable</td>\n",
       "    </tr>\n",
       "    <tr>\n",
       "      <th>1</th>\n",
       "      <td>NaN</td>\n",
       "    </tr>\n",
       "    <tr>\n",
       "      <th>2</th>\n",
       "      <td>Bose SoundSport Headphones</td>\n",
       "    </tr>\n",
       "    <tr>\n",
       "      <th>3</th>\n",
       "      <td>Google Phone</td>\n",
       "    </tr>\n",
       "    <tr>\n",
       "      <th>4</th>\n",
       "      <td>Wired Headphones</td>\n",
       "    </tr>\n",
       "  </tbody>\n",
       "</table>\n",
       "</div>"
      ],
      "text/plain": [
       "                      Product\n",
       "0        USB-C Charging Cable\n",
       "1                         NaN\n",
       "2  Bose SoundSport Headphones\n",
       "3                Google Phone\n",
       "4            Wired Headphones"
      ]
     },
     "execution_count": 113,
     "metadata": {},
     "output_type": "execute_result"
    }
   ],
   "source": [
    "select = sales_df[['Product']]\n",
    "prod_df = pd.DataFrame(select)\n",
    "prod_df.head()"
   ]
  },
  {
   "cell_type": "markdown",
   "id": "a2928ba6",
   "metadata": {},
   "source": [
    "<h1 style=\"color:blue\">Removing NaN's</h1>"
   ]
  },
  {
   "cell_type": "code",
   "execution_count": 116,
   "id": "1adcb59b",
   "metadata": {},
   "outputs": [
    {
     "data": {
      "text/html": [
       "<div>\n",
       "<style scoped>\n",
       "    .dataframe tbody tr th:only-of-type {\n",
       "        vertical-align: middle;\n",
       "    }\n",
       "\n",
       "    .dataframe tbody tr th {\n",
       "        vertical-align: top;\n",
       "    }\n",
       "\n",
       "    .dataframe thead th {\n",
       "        text-align: right;\n",
       "    }\n",
       "</style>\n",
       "<table border=\"1\" class=\"dataframe\">\n",
       "  <thead>\n",
       "    <tr style=\"text-align: right;\">\n",
       "      <th></th>\n",
       "      <th>Product</th>\n",
       "    </tr>\n",
       "  </thead>\n",
       "  <tbody>\n",
       "    <tr>\n",
       "      <th>0</th>\n",
       "      <td>USB-C Charging Cable</td>\n",
       "    </tr>\n",
       "    <tr>\n",
       "      <th>2</th>\n",
       "      <td>Bose SoundSport Headphones</td>\n",
       "    </tr>\n",
       "    <tr>\n",
       "      <th>3</th>\n",
       "      <td>Google Phone</td>\n",
       "    </tr>\n",
       "    <tr>\n",
       "      <th>4</th>\n",
       "      <td>Wired Headphones</td>\n",
       "    </tr>\n",
       "    <tr>\n",
       "      <th>5</th>\n",
       "      <td>Wired Headphones</td>\n",
       "    </tr>\n",
       "  </tbody>\n",
       "</table>\n",
       "</div>"
      ],
      "text/plain": [
       "                      Product\n",
       "0        USB-C Charging Cable\n",
       "2  Bose SoundSport Headphones\n",
       "3                Google Phone\n",
       "4            Wired Headphones\n",
       "5            Wired Headphones"
      ]
     },
     "execution_count": 116,
     "metadata": {},
     "output_type": "execute_result"
    }
   ],
   "source": [
    "prod_df = prod_df[~prod_df['Product'].isna()]\n",
    "prod_df.head()"
   ]
  },
  {
   "cell_type": "markdown",
   "id": "4fe90bbb",
   "metadata": {},
   "source": [
    "<h1 style=\"color:orange; font-size:4rem\">Products with Percentages</h1>"
   ]
  },
  {
   "cell_type": "code",
   "execution_count": 135,
   "id": "564f216f",
   "metadata": {},
   "outputs": [
    {
     "data": {
      "image/png": "[encoded data removed]",
      "text/plain": [
       "<Figure size 1000x600 with 1 Axes>"
      ]
     },
     "metadata": {},
     "output_type": "display_data"
    }
   ],
   "source": [
    "count = prod_df['Product'].value_counts()\n",
    "products_list = prod_df['Product'].unique().tolist()\n",
    "\n",
    "plt.figure(figsize=(10, 6))\n",
    "plt.bar(products_list, count, color=\"yellow\", edgecolor=\"orange\", linewidth=2)\n",
    "plt.title(\"Number of times Product Was Purchased\")\n",
    "plt.xlabel(\"Products Purchased Commonly in the USA\")\n",
    "plt.ylabel(\"Count Of Products Purchased\")\n",
    "plt.xticks(products_list, rotation=\"vertical\")\n",
    "\n",
    "plt.show()"
   ]
  }
 ],
 "metadata": {
  "kernelspec": {
   "display_name": "Python 3 (ipykernel)",
   "language": "python",
   "name": "python3"
  },
  "language_info": {
   "codemirror_mode": {
    "name": "ipython",
    "version": 3
   },
   "file_extension": ".py",
   "mimetype": "text/x-python",
   "name": "python",
   "nbconvert_exporter": "python",
   "pygments_lexer": "ipython3",
   "version": "3.10.9"
  }
 },
 "nbformat": 4,
 "nbformat_minor": 5
}
